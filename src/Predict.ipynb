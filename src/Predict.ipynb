{
 "cells": [
  {
   "cell_type": "code",
   "execution_count": 1,
   "metadata": {},
   "outputs": [
    {
     "name": "stderr",
     "output_type": "stream",
     "text": [
      "Using TensorFlow backend.\n"
     ]
    }
   ],
   "source": [
    "import cv2\n",
    "import numpy as np\n",
    "from keras.models import load_model"
   ]
  },
  {
   "cell_type": "code",
   "execution_count": 2,
   "metadata": {},
   "outputs": [],
   "source": [
    "model = load_model('./model/model.h5')"
   ]
  },
  {
   "cell_type": "code",
   "execution_count": 3,
   "metadata": {},
   "outputs": [],
   "source": [
    "cameraNumber = 1\n",
    "width = 320\n",
    "height = 240\n",
    "\n",
    "cap = cv2.VideoCapture(cameraNumber)\n",
    "cap.set(3, width)\n",
    "cap.set(4, height)\n",
    "\n",
    "def Crop(image):\n",
    "    img_hsv = cv2.cvtColor(image, cv2.COLOR_BGR2HSV)\n",
    "    cv2.imshow(\"img hsv\", img_hsv)\n",
    "    \n",
    "    lower = np.array([0, 50, 50])\n",
    "    upper = np.array([10, 255, 255])\n",
    "    mask = cv2.inRange(img_hsv, lower, upper)\n",
    "    image[np.where(mask == 0)] = 0\n",
    "    image[np.where(mask != 0)] = 255\n",
    "    cv2.imshow(\"mask\", image)\n",
    "    \n",
    "    _, thresh = cv2.threshold(mask, 70, 255, 0)\n",
    "    contours, _ = cv2.findContours(thresh, cv2.RETR_EXTERNAL, cv2.CHAIN_APPROX_NONE)\n",
    "    rect = max(contours, key=cv2.contourArea)\n",
    "    x, y, w, h = cv2.boundingRect(rect)\n",
    "    img_rect = image.copy()\n",
    "    cv2.drawContours(img_rect, contours, -1, (255, 0, 0), 2)\n",
    "    cv2.rectangle(img_rect, (x, y), (x + w, y + h), (0, 255, 0), 2)\n",
    "    cv2.imshow(\"img rect\", img_rect)\n",
    "    \n",
    "    img_crop = image[y:y + h, x:x + w]\n",
    "    cv2.imshow(\"img crop\", img_crop)\n",
    "    \n",
    "    img_crop = cv2.cvtColor(img_crop, cv2.COLOR_BGR2GRAY)\n",
    "    return img_crop\n",
    "\n",
    "def PreProcessing(image):\n",
    "    image = Crop(image)\n",
    "    image = cv2.resize(image, (28, 28))\n",
    "    image = image.reshape(-1, 28, 28, 1)\n",
    "    return image\n",
    "\n",
    "def Predict(model, image):\n",
    "    image = PreProcessing(image)\n",
    "    classIndex = int(model.predict_classes(image))\n",
    "    predictions = model.predict(image)\n",
    "    probVal = np.amax(predictions)\n",
    "    return (classIndex, probVal)\n",
    "\n",
    "while True:\n",
    "    try:\n",
    "        _, frame = cap.read()\n",
    "        \n",
    "        classIndex, probVal = Predict(model, frame.copy())\n",
    "        \n",
    "        cv2.putText(frame, f\"{classIndex} {probVal}\", (10, 50), cv2.FONT_HERSHEY_SIMPLEX, 1, (0, 255, 255), 2)\n",
    "        cv2.imshow(\"Camera\", frame)\n",
    "        \n",
    "        keyPress = cv2.waitKey(1)\n",
    "        if keyPress % 256 == 32:\n",
    "            cv2.imwrite(\"./images/sample.png\", frame)\n",
    "        elif keyPress & 0xFF == ord('q'):\n",
    "            break\n",
    "    except:\n",
    "        pass\n",
    "        \n",
    "cap.release()\n",
    "cv2.destroyAllWindows()"
   ]
  }
 ],
 "metadata": {
  "kernelspec": {
   "display_name": "Python 3.7.7 64-bit",
   "language": "python",
   "name": "python37764bitc13ef9d2d7184b0bac11e7eb9be0b563"
  },
  "language_info": {
   "codemirror_mode": {
    "name": "ipython",
    "version": 3
   },
   "file_extension": ".py",
   "mimetype": "text/x-python",
   "name": "python",
   "nbconvert_exporter": "python",
   "pygments_lexer": "ipython3",
   "version": "3.7.7"
  },
  "varInspector": {
   "cols": {
    "lenName": 16,
    "lenType": 16,
    "lenVar": 40
   },
   "kernels_config": {
    "python": {
     "delete_cmd_postfix": "",
     "delete_cmd_prefix": "del ",
     "library": "var_list.py",
     "varRefreshCmd": "print(var_dic_list())"
    },
    "r": {
     "delete_cmd_postfix": ") ",
     "delete_cmd_prefix": "rm(",
     "library": "var_list.r",
     "varRefreshCmd": "cat(var_dic_list()) "
    }
   },
   "types_to_exclude": [
    "module",
    "function",
    "builtin_function_or_method",
    "instance",
    "_Feature"
   ],
   "window_display": false
  }
 },
 "nbformat": 4,
 "nbformat_minor": 4
}
